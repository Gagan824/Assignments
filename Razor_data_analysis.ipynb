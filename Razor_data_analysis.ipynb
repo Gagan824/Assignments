{
 "cells": [
  {
   "cell_type": "code",
   "execution_count": 1,
   "id": "c9ea19e7",
   "metadata": {},
   "outputs": [],
   "source": [
    "import pandas as pd"
   ]
  },
  {
   "cell_type": "markdown",
   "id": "31b1ed61",
   "metadata": {},
   "source": [
    "# Reading data from the file"
   ]
  },
  {
   "cell_type": "code",
   "execution_count": 16,
   "id": "105b234e",
   "metadata": {},
   "outputs": [],
   "source": [
    "data = pd.read_csv('mkt_data.csv')"
   ]
  },
  {
   "cell_type": "code",
   "execution_count": 17,
   "id": "2c07d280",
   "metadata": {},
   "outputs": [
    {
     "data": {
      "text/html": [
       "<div>\n",
       "<style scoped>\n",
       "    .dataframe tbody tr th:only-of-type {\n",
       "        vertical-align: middle;\n",
       "    }\n",
       "\n",
       "    .dataframe tbody tr th {\n",
       "        vertical-align: top;\n",
       "    }\n",
       "\n",
       "    .dataframe thead th {\n",
       "        text-align: right;\n",
       "    }\n",
       "</style>\n",
       "<table border=\"1\" class=\"dataframe\">\n",
       "  <thead>\n",
       "    <tr style=\"text-align: right;\">\n",
       "      <th></th>\n",
       "      <th>id</th>\n",
       "      <th>send_date</th>\n",
       "      <th>estimated_age</th>\n",
       "      <th>age_range</th>\n",
       "      <th>channel</th>\n",
       "      <th>coupon</th>\n",
       "      <th>clicked</th>\n",
       "      <th>last_step</th>\n",
       "      <th>nb_units</th>\n",
       "      <th>order_value</th>\n",
       "    </tr>\n",
       "  </thead>\n",
       "  <tbody>\n",
       "    <tr>\n",
       "      <th>0</th>\n",
       "      <td>1</td>\n",
       "      <td>2019-04-12</td>\n",
       "      <td>59</td>\n",
       "      <td>46-60</td>\n",
       "      <td>SMS</td>\n",
       "      <td>2</td>\n",
       "      <td>0</td>\n",
       "      <td>received</td>\n",
       "      <td>0</td>\n",
       "      <td>0</td>\n",
       "    </tr>\n",
       "    <tr>\n",
       "      <th>1</th>\n",
       "      <td>2</td>\n",
       "      <td>2019-04-08</td>\n",
       "      <td>27</td>\n",
       "      <td>18-30</td>\n",
       "      <td>Email</td>\n",
       "      <td>2</td>\n",
       "      <td>0</td>\n",
       "      <td>received</td>\n",
       "      <td>0</td>\n",
       "      <td>0</td>\n",
       "    </tr>\n",
       "    <tr>\n",
       "      <th>2</th>\n",
       "      <td>3</td>\n",
       "      <td>2019-04-05</td>\n",
       "      <td>74</td>\n",
       "      <td>60+</td>\n",
       "      <td>Email</td>\n",
       "      <td>2</td>\n",
       "      <td>0</td>\n",
       "      <td>received</td>\n",
       "      <td>0</td>\n",
       "      <td>0</td>\n",
       "    </tr>\n",
       "    <tr>\n",
       "      <th>3</th>\n",
       "      <td>4</td>\n",
       "      <td>2019-04-21</td>\n",
       "      <td>32</td>\n",
       "      <td>31-45</td>\n",
       "      <td>SMS</td>\n",
       "      <td>2</td>\n",
       "      <td>0</td>\n",
       "      <td>received</td>\n",
       "      <td>0</td>\n",
       "      <td>0</td>\n",
       "    </tr>\n",
       "    <tr>\n",
       "      <th>4</th>\n",
       "      <td>5</td>\n",
       "      <td>2019-04-28</td>\n",
       "      <td>42</td>\n",
       "      <td>31-45</td>\n",
       "      <td>Email</td>\n",
       "      <td>2</td>\n",
       "      <td>0</td>\n",
       "      <td>received</td>\n",
       "      <td>0</td>\n",
       "      <td>0</td>\n",
       "    </tr>\n",
       "  </tbody>\n",
       "</table>\n",
       "</div>"
      ],
      "text/plain": [
       "   id   send_date  estimated_age age_range channel  coupon  clicked last_step  \\\n",
       "0   1  2019-04-12             59     46-60     SMS       2        0  received   \n",
       "1   2  2019-04-08             27     18-30   Email       2        0  received   \n",
       "2   3  2019-04-05             74       60+   Email       2        0  received   \n",
       "3   4  2019-04-21             32     31-45     SMS       2        0  received   \n",
       "4   5  2019-04-28             42     31-45   Email       2        0  received   \n",
       "\n",
       "   nb_units  order_value  \n",
       "0         0            0  \n",
       "1         0            0  \n",
       "2         0            0  \n",
       "3         0            0  \n",
       "4         0            0  "
      ]
     },
     "execution_count": 17,
     "metadata": {},
     "output_type": "execute_result"
    }
   ],
   "source": [
    "data.head()"
   ]
  },
  {
   "cell_type": "markdown",
   "id": "9fafde52",
   "metadata": {},
   "source": [
    "# Given information"
   ]
  },
  {
   "cell_type": "code",
   "execution_count": 4,
   "id": "ce848bdb",
   "metadata": {},
   "outputs": [],
   "source": [
    "cost_per_sms = 0.05\n",
    "cost_per_email = 0.075\n",
    "allocated_fund = 60000\n",
    "production_cost_per_razor = 18\n",
    "price_with_out_coupon = 40"
   ]
  },
  {
   "cell_type": "code",
   "execution_count": 20,
   "id": "878f3b05",
   "metadata": {},
   "outputs": [],
   "source": [
    "age_group = ['18-30','31-45','46-60','60+']"
   ]
  },
  {
   "cell_type": "code",
   "execution_count": 69,
   "id": "b80f76bf",
   "metadata": {},
   "outputs": [],
   "source": [
    "sms_18_30_count = 0\n",
    "email_18_30_count = 0\n",
    "sms_31_45_count = 0\n",
    "email_31_45_count = 0\n",
    "sms_46_60_count = 0\n",
    "email_46_60_count = 0\n",
    "sms_61_count = 0\n",
    "email_61_count = 0"
   ]
  },
  {
   "cell_type": "markdown",
   "id": "4f412bb6",
   "metadata": {},
   "source": [
    "# Here I am calculating the count for each campaign age group wise "
   ]
  },
  {
   "cell_type": "code",
   "execution_count": 70,
   "id": "477fdfcd",
   "metadata": {},
   "outputs": [],
   "source": [
    "for ind in data.index:\n",
    "    \n",
    "    if data['age_range'][ind] == '18-30':\n",
    "        if data['channel'][ind] == 'SMS':\n",
    "            sms_18_30_count = sms_18_30_count + 1       \n",
    "        elif data['channel'][ind] == 'Email':\n",
    "            email_18_30_count = email_18_30_count + 1           \n",
    "        else:\n",
    "            pass\n",
    "        \n",
    "    elif data['age_range'][ind] == '31-45':\n",
    "        if data['channel'][ind] == 'SMS':\n",
    "            sms_31_45_count = sms_31_45_count + 1       \n",
    "        elif data['channel'][ind] == 'Email':\n",
    "            email_31_45_count = email_31_45_count + 1           \n",
    "        else:\n",
    "            pass\n",
    "        \n",
    "    elif data['age_range'][ind] == '46-60':\n",
    "        if data['channel'][ind] == 'SMS':\n",
    "            sms_46_60_count = sms_46_60_count + 1       \n",
    "        elif data['channel'][ind] == 'Email':\n",
    "            email_46_60_count = email_46_60_count + 1           \n",
    "        else:\n",
    "            pass\n",
    "        \n",
    "    elif data['age_range'][ind] == '60+':\n",
    "        if data['channel'][ind] == 'SMS':\n",
    "            sms_61_count = sms_61_count + 1       \n",
    "        elif data['channel'][ind] == 'Email':\n",
    "            email_61_count = email_61_count + 1           \n",
    "        else:\n",
    "            pass\n",
    "        \n",
    "    else:\n",
    "        pass"
   ]
  },
  {
   "cell_type": "markdown",
   "id": "ad916791",
   "metadata": {},
   "source": [
    "# Calculating the total count"
   ]
  },
  {
   "cell_type": "code",
   "execution_count": 71,
   "id": "f850968c",
   "metadata": {},
   "outputs": [],
   "source": [
    "total = sms_18_30_count + sms_31_45_count + sms_46_60_count + sms_61_count + email_18_30_count + email_31_45_count + email_46_60_count + email_61_count"
   ]
  },
  {
   "cell_type": "code",
   "execution_count": 72,
   "id": "5ada3e81",
   "metadata": {},
   "outputs": [
    {
     "name": "stdout",
     "output_type": "stream",
     "text": [
      "True\n"
     ]
    }
   ],
   "source": [
    "if total == len(data):\n",
    "    print(True)"
   ]
  },
  {
   "cell_type": "markdown",
   "id": "2259a6c7",
   "metadata": {},
   "source": [
    "# Calculating the count age group wise"
   ]
  },
  {
   "cell_type": "code",
   "execution_count": 73,
   "id": "d3ae122d",
   "metadata": {},
   "outputs": [],
   "source": [
    "count_18_30 = sms_18_30_count + email_18_30_count\n",
    "count_31_45 = sms_31_45_count + email_31_45_count\n",
    "count_46_60 = sms_46_60_count + email_46_60_count\n",
    "count_61_ = sms_61_count + email_61_count"
   ]
  },
  {
   "cell_type": "markdown",
   "id": "d4ca02ac",
   "metadata": {},
   "source": [
    "# Calculating the count of SMS and Email campaign seperately"
   ]
  },
  {
   "cell_type": "code",
   "execution_count": 74,
   "id": "429af4d1",
   "metadata": {},
   "outputs": [],
   "source": [
    "total_sms = sms_18_30_count + sms_31_45_count + sms_46_60_count + sms_61_count\n",
    "total_email = email_18_30_count + email_31_45_count + email_46_60_count + email_61_count"
   ]
  },
  {
   "cell_type": "markdown",
   "id": "51200364",
   "metadata": {},
   "source": [
    "# Here I am calculating the total amount spent on campaigns"
   ]
  },
  {
   "cell_type": "code",
   "execution_count": 75,
   "id": "abc83410",
   "metadata": {},
   "outputs": [],
   "source": [
    "total_amount_for_sms = cost_per_sms * total_sms\n",
    "total_amount_for_email = cost_per_email * total_email"
   ]
  },
  {
   "cell_type": "code",
   "execution_count": 76,
   "id": "3e72808f",
   "metadata": {},
   "outputs": [],
   "source": [
    "total_campaign_amount = total_amount_for_sms + total_amount_for_email"
   ]
  },
  {
   "cell_type": "code",
   "execution_count": 77,
   "id": "967d6e06",
   "metadata": {},
   "outputs": [],
   "source": [
    "amount_on_sms_18_30_count = sms_18_30_count * cost_per_sms\n",
    "amount_on_email_18_30_count = email_18_30_count * cost_per_email\n",
    "amount_on_sms_31_45_count = sms_31_45_count * cost_per_sms\n",
    "amount_on_email_31_45_count = email_31_45_count * cost_per_email\n",
    "amount_on_sms_46_60_count = sms_46_60_count * cost_per_sms\n",
    "amount_on_email_46_60_count = email_46_60_count * cost_per_email\n",
    "amount_on_sms_61_count = sms_61_count * cost_per_sms\n",
    "amount_on_email_61_count = email_61_count * cost_per_email"
   ]
  },
  {
   "cell_type": "code",
   "execution_count": 78,
   "id": "8e8e03b9",
   "metadata": {},
   "outputs": [],
   "source": [
    "amount_on_18_30 = amount_on_sms_18_30_count + amount_on_email_18_30_count\n",
    "amount_on_31_45 = amount_on_sms_31_45_count + amount_on_email_31_45_count\n",
    "amount_on_46_60 = amount_on_sms_46_60_count + amount_on_email_46_60_count\n",
    "amount_on_61_ = amount_on_sms_61_count + amount_on_email_61_count"
   ]
  },
  {
   "cell_type": "markdown",
   "id": "eae0aaa8",
   "metadata": {},
   "source": [
    "# Calculating the percentage of amount spent for each age group and emails/SMS"
   ]
  },
  {
   "cell_type": "code",
   "execution_count": 79,
   "id": "e27b219d",
   "metadata": {},
   "outputs": [],
   "source": [
    "percentage_on_18_30 = (amount_on_18_30/total_campaign_amount) \n",
    "percentage_on_31_45 = (amount_on_31_45/total_campaign_amount) \n",
    "percentage_on_46_60 = (amount_on_46_60/total_campaign_amount) \n",
    "percentage_on_61_ = (amount_on_61_/total_campaign_amount) "
   ]
  },
  {
   "cell_type": "code",
   "execution_count": 80,
   "id": "51845801",
   "metadata": {},
   "outputs": [],
   "source": [
    "percentage_on_18_30_sms = (amount_on_sms_18_30_count/percentage_on_18_30) \n",
    "percentage_on_31_45_sms = (amount_on_sms_31_45_count/percentage_on_31_45)\n",
    "percentage_on_46_60_sms = (amount_on_sms_46_60_count/percentage_on_46_60)\n",
    "percentage_on_61_sms = (amount_on_sms_61_count/percentage_on_61_) \n",
    "percentage_on_18_30_email = (amount_on_email_18_30_count/percentage_on_18_30) \n",
    "percentage_on_31_45_email = (amount_on_email_31_45_count/percentage_on_31_45) \n",
    "percentage_on_46_60_email = (amount_on_email_46_60_count/percentage_on_46_60) \n",
    "percentage_on_61_email = (amount_on_email_61_count/percentage_on_61_) "
   ]
  },
  {
   "cell_type": "code",
   "execution_count": 82,
   "id": "50cee688",
   "metadata": {},
   "outputs": [
    {
     "data": {
      "text/plain": [
       "18412.225"
      ]
     },
     "execution_count": 82,
     "metadata": {},
     "output_type": "execute_result"
    }
   ],
   "source": [
    "total_campaign_amount"
   ]
  },
  {
   "cell_type": "markdown",
   "id": "8da2f5aa",
   "metadata": {},
   "source": [
    "# Here I am calculating the count for each campaign age group wise through which user has purchsed items"
   ]
  },
  {
   "cell_type": "code",
   "execution_count": 83,
   "id": "f5f3a3ef",
   "metadata": {},
   "outputs": [],
   "source": [
    "successful_sms_18_30_count = 0\n",
    "successful_email_18_30_count = 0\n",
    "successful_sms_31_45_count = 0\n",
    "successful_email_31_45_count = 0\n",
    "successful_sms_46_60_count = 0\n",
    "successful_email_46_60_count = 0\n",
    "successful_sms_61_count = 0\n",
    "successful_email_61_count = 0\n",
    "\n",
    "for ind in data.index:\n",
    "    \n",
    "    if data['age_range'][ind] == '18-30':\n",
    "        if data['channel'][ind] == 'SMS':\n",
    "            if data['clicked'][ind] == 1:\n",
    "                if  data['last_step'][ind] == 'purchased':\n",
    "                    successful_sms_18_30_count = successful_sms_18_30_count + 1       \n",
    "        elif data['channel'][ind] == 'Email':\n",
    "            if data['clicked'][ind] == 1:\n",
    "                if  data['last_step'][ind] == 'purchased':\n",
    "                    successful_email_18_30_count = successful_email_18_30_count + 1           \n",
    "        else:\n",
    "            pass\n",
    "        \n",
    "    elif data['age_range'][ind] == '31-45':\n",
    "        if data['channel'][ind] == 'SMS':\n",
    "            if data['clicked'][ind] == 1:\n",
    "                if  data['last_step'][ind] == 'purchased':\n",
    "                    successful_sms_31_45_count = successful_sms_31_45_count + 1       \n",
    "        elif data['channel'][ind] == 'Email':\n",
    "            if data['clicked'][ind] == 1:\n",
    "                if  data['last_step'][ind] == 'purchased':\n",
    "                    successful_email_31_45_count = successful_email_31_45_count + 1           \n",
    "        else:\n",
    "            pass\n",
    "        \n",
    "    elif data['age_range'][ind] == '46-60':\n",
    "        if data['channel'][ind] == 'SMS':\n",
    "            if data['clicked'][ind] == 1:\n",
    "                if  data['last_step'][ind] == 'purchased':\n",
    "                    successful_sms_46_60_count = successful_sms_46_60_count + 1       \n",
    "        elif data['channel'][ind] == 'Email':\n",
    "            if data['clicked'][ind] == 1:\n",
    "                if  data['last_step'][ind] == 'purchased':\n",
    "                    successful_email_46_60_count = successful_email_46_60_count + 1           \n",
    "        else:\n",
    "            pass\n",
    "        \n",
    "    elif data['age_range'][ind] == '60+':\n",
    "        if data['channel'][ind] == 'SMS':\n",
    "            if data['clicked'][ind] == 1:\n",
    "                if  data['last_step'][ind] == 'purchased':\n",
    "                    successful_sms_61_count = successful_sms_61_count + 1       \n",
    "        elif data['channel'][ind] == 'Email':\n",
    "            if data['clicked'][ind] == 1:\n",
    "                if data['last_step'][ind] == 'purchased':\n",
    "                    successful_email_61_count = successful_email_61_count + 1           \n",
    "        else:\n",
    "            pass\n",
    "        \n",
    "    else:\n",
    "        pass"
   ]
  },
  {
   "cell_type": "markdown",
   "id": "e82c3053",
   "metadata": {},
   "source": [
    "# Below I have done the similar things for successful campaigns that I have done above : calculating amount for each campaign and age group and their corresponding percentages "
   ]
  },
  {
   "cell_type": "code",
   "execution_count": 87,
   "id": "e2b61fc5",
   "metadata": {},
   "outputs": [],
   "source": [
    "success_count = successful_sms_18_30_count + successful_email_18_30_count + successful_sms_31_45_count + successful_email_31_45_count +  successful_sms_46_60_count + successful_email_46_60_count + successful_sms_61_count + successful_email_61_count "
   ]
  },
  {
   "cell_type": "code",
   "execution_count": 89,
   "id": "fcd2f824",
   "metadata": {},
   "outputs": [],
   "source": [
    "success_count_18_30 = successful_sms_18_30_count + successful_email_18_30_count\n",
    "success_count_31_45 = successful_sms_31_45_count + successful_email_31_45_count\n",
    "success_count_46_60 = successful_sms_46_60_count + successful_email_46_60_count\n",
    "success_count_61_ = successful_sms_61_count + successful_email_61_count"
   ]
  },
  {
   "cell_type": "code",
   "execution_count": 90,
   "id": "69b264ac",
   "metadata": {},
   "outputs": [],
   "source": [
    "amount_on_success_sms_18_30_count = successful_sms_18_30_count * cost_per_sms\n",
    "amount_on_success_email_18_30_count = successful_email_18_30_count * cost_per_email\n",
    "amount_on_success_sms_31_45_count = successful_sms_31_45_count * cost_per_sms\n",
    "amount_on_success_email_31_45_count = successful_email_31_45_count * cost_per_email\n",
    "amount_on_success_sms_46_60_count = successful_sms_46_60_count * cost_per_sms\n",
    "amount_on_success_email_46_60_count = successful_email_46_60_count * cost_per_email\n",
    "amount_on_success_sms_61_count = successful_sms_61_count * cost_per_sms\n",
    "amount_on_success_email_61_count = successful_email_61_count * cost_per_email"
   ]
  },
  {
   "cell_type": "code",
   "execution_count": 91,
   "id": "dd6f383c",
   "metadata": {},
   "outputs": [],
   "source": [
    "t_a_f_s_c = amount_on_success_sms_18_30_count + amount_on_success_email_18_30_count + amount_on_success_sms_31_45_count + amount_on_success_email_31_45_count + amount_on_success_sms_46_60_count + amount_on_success_email_46_60_count + amount_on_success_sms_61_count + amount_on_success_email_61_count   "
   ]
  },
  {
   "cell_type": "code",
   "execution_count": 92,
   "id": "532437fe",
   "metadata": {},
   "outputs": [],
   "source": [
    "p_amount_on_success_sms_18_30_count = amount_on_success_sms_18_30_count / t_a_f_s_c\n",
    "p_amount_on_success_email_18_30_count = amount_on_success_email_18_30_count / t_a_f_s_c\n",
    "p_amount_on_success_sms_31_45_count = amount_on_success_sms_31_45_count / t_a_f_s_c\n",
    "p_amount_on_success_email_31_45_count = amount_on_success_email_31_45_count / t_a_f_s_c\n",
    "p_amount_on_success_sms_46_60_count = amount_on_success_sms_46_60_count / t_a_f_s_c\n",
    "p_amount_on_success_email_46_60_count = amount_on_success_email_46_60_count / t_a_f_s_c\n",
    "p_amount_on_success_sms_61_count = amount_on_success_sms_61_count / t_a_f_s_c\n",
    "p_amount_on_success_email_61_count = amount_on_success_email_61_count / t_a_f_s_c"
   ]
  },
  {
   "cell_type": "code",
   "execution_count": 100,
   "id": "f1c86638",
   "metadata": {},
   "outputs": [],
   "source": [
    "amount_on_s_18_30 = amount_on_success_sms_18_30_count + amount_on_success_email_18_30_count\n",
    "amount_on_s_31_45 = amount_on_success_sms_31_45_count + amount_on_success_email_31_45_count\n",
    "amount_on_s_46_60 = amount_on_success_sms_46_60_count + amount_on_success_email_46_60_count\n",
    "amount_on_s_61_ = amount_on_success_sms_61_count + amount_on_success_email_61_count\n",
    "\n",
    "percentage_on_success_18_30 = (amount_on_s_18_30/t_a_f_s_c) \n",
    "percentage_on_success_31_45 = (amount_on_s_31_45/t_a_f_s_c) \n",
    "percentage_on_success_46_60 = (amount_on_s_46_60/t_a_f_s_c) \n",
    "percentage_on_success_61_ = (amount_on_s_61_/t_a_f_s_c) "
   ]
  },
  {
   "cell_type": "markdown",
   "id": "a6d5daff",
   "metadata": {},
   "source": [
    "# Here I have created the new data frame for better understadings and calculating the amount to be distributed among the age groups campaigns wise from the allocated amount for the next quarter"
   ]
  },
  {
   "cell_type": "code",
   "execution_count": 127,
   "id": "940fbfab",
   "metadata": {},
   "outputs": [],
   "source": [
    "newdata = pd.DataFrame()"
   ]
  },
  {
   "cell_type": "code",
   "execution_count": 128,
   "id": "f6d356e1",
   "metadata": {},
   "outputs": [],
   "source": [
    "newdata['age_group'] = age_group"
   ]
  },
  {
   "cell_type": "code",
   "execution_count": 129,
   "id": "2a5b25d0",
   "metadata": {},
   "outputs": [],
   "source": [
    "newdata['pool_size'] = ['300000','350000','500000','200000']"
   ]
  },
  {
   "cell_type": "code",
   "execution_count": 130,
   "id": "3cd4a748",
   "metadata": {},
   "outputs": [
    {
     "data": {
      "text/html": [
       "<div>\n",
       "<style scoped>\n",
       "    .dataframe tbody tr th:only-of-type {\n",
       "        vertical-align: middle;\n",
       "    }\n",
       "\n",
       "    .dataframe tbody tr th {\n",
       "        vertical-align: top;\n",
       "    }\n",
       "\n",
       "    .dataframe thead th {\n",
       "        text-align: right;\n",
       "    }\n",
       "</style>\n",
       "<table border=\"1\" class=\"dataframe\">\n",
       "  <thead>\n",
       "    <tr style=\"text-align: right;\">\n",
       "      <th></th>\n",
       "      <th>age_group</th>\n",
       "      <th>pool_size</th>\n",
       "    </tr>\n",
       "  </thead>\n",
       "  <tbody>\n",
       "    <tr>\n",
       "      <th>0</th>\n",
       "      <td>18-30</td>\n",
       "      <td>300000</td>\n",
       "    </tr>\n",
       "    <tr>\n",
       "      <th>1</th>\n",
       "      <td>31-45</td>\n",
       "      <td>350000</td>\n",
       "    </tr>\n",
       "    <tr>\n",
       "      <th>2</th>\n",
       "      <td>46-60</td>\n",
       "      <td>500000</td>\n",
       "    </tr>\n",
       "    <tr>\n",
       "      <th>3</th>\n",
       "      <td>60+</td>\n",
       "      <td>200000</td>\n",
       "    </tr>\n",
       "  </tbody>\n",
       "</table>\n",
       "</div>"
      ],
      "text/plain": [
       "  age_group pool_size\n",
       "0     18-30    300000\n",
       "1     31-45    350000\n",
       "2     46-60    500000\n",
       "3       60+    200000"
      ]
     },
     "execution_count": 130,
     "metadata": {},
     "output_type": "execute_result"
    }
   ],
   "source": [
    "newdata.head()"
   ]
  },
  {
   "cell_type": "code",
   "execution_count": 131,
   "id": "9ce705c9",
   "metadata": {},
   "outputs": [],
   "source": [
    "amount_to_spent_on_18_30 = allocated_fund * percentage_on_18_30\n",
    "amount_to_spent_on_31_45 = allocated_fund * percentage_on_31_45\n",
    "amount_to_spent_on_46_60 = allocated_fund * percentage_on_46_60\n",
    "amount_to_spent_on_60_ = allocated_fund * percentage_on_61_"
   ]
  },
  {
   "cell_type": "code",
   "execution_count": 132,
   "id": "1e5fc95d",
   "metadata": {},
   "outputs": [],
   "source": [
    "overall_amount_to_spent = [amount_to_spent_on_18_30,amount_to_spent_on_31_45,amount_to_spent_on_46_60,amount_to_spent_on_60_]"
   ]
  },
  {
   "cell_type": "code",
   "execution_count": 133,
   "id": "4146d0ea",
   "metadata": {},
   "outputs": [],
   "source": [
    "amount_as_per_success_on_18_30 = allocated_fund * percentage_on_success_18_30\n",
    "amount_as_per_success_on_31_45 = allocated_fund * percentage_on_success_31_45\n",
    "amount_as_per_success_on_46_60 = allocated_fund * percentage_on_success_46_60\n",
    "amount_as_per_success_on_60_ = allocated_fund * percentage_on_success_61_"
   ]
  },
  {
   "cell_type": "code",
   "execution_count": 134,
   "id": "c705eb9d",
   "metadata": {},
   "outputs": [],
   "source": [
    "success_amount = [amount_as_per_success_on_18_30,amount_as_per_success_on_31_45,amount_as_per_success_on_46_60,amount_as_per_success_on_60_ ]"
   ]
  },
  {
   "cell_type": "code",
   "execution_count": 135,
   "id": "0e07fd63",
   "metadata": {},
   "outputs": [],
   "source": [
    "s_sms_amount_18_30 = allocated_fund * p_amount_on_success_sms_18_30_count\n",
    "s_sms_amount_31_45 = allocated_fund * p_amount_on_success_sms_31_45_count\n",
    "s_sms_amount_46_60 = allocated_fund * p_amount_on_success_sms_46_60_count\n",
    "s_sms_amount_60_ = allocated_fund * p_amount_on_success_sms_61_count"
   ]
  },
  {
   "cell_type": "code",
   "execution_count": 136,
   "id": "af8476da",
   "metadata": {},
   "outputs": [],
   "source": [
    "sms_success_amount = [s_sms_amount_18_30,s_sms_amount_31_45,s_sms_amount_46_60,s_sms_amount_60_]"
   ]
  },
  {
   "cell_type": "code",
   "execution_count": 137,
   "id": "b8fb0897",
   "metadata": {},
   "outputs": [],
   "source": [
    "s_email_amount_18_30 = allocated_fund * p_amount_on_success_email_18_30_count\n",
    "s_email_amount_31_45 = allocated_fund * p_amount_on_success_email_31_45_count\n",
    "s_email_amount_46_60 = allocated_fund * p_amount_on_success_email_46_60_count\n",
    "s_email_amount_60_ = allocated_fund * p_amount_on_success_email_61_count"
   ]
  },
  {
   "cell_type": "code",
   "execution_count": 138,
   "id": "9f7fbe20",
   "metadata": {},
   "outputs": [],
   "source": [
    "email_success_amount = [s_email_amount_18_30,s_email_amount_31_45,s_email_amount_46_60,s_email_amount_60_]"
   ]
  },
  {
   "cell_type": "code",
   "execution_count": 139,
   "id": "f649cd32",
   "metadata": {},
   "outputs": [],
   "source": [
    "newdata['Overall_amount'] = overall_amount_to_spent"
   ]
  },
  {
   "cell_type": "code",
   "execution_count": 140,
   "id": "3183e9d4",
   "metadata": {},
   "outputs": [],
   "source": [
    "newdata['Success_amount'] = success_amount\n",
    "newdata['SMS_success_amount'] = sms_success_amount\n",
    "newdata['Email_success_amount'] = email_success_amount"
   ]
  },
  {
   "cell_type": "code",
   "execution_count": 142,
   "id": "628f0392",
   "metadata": {},
   "outputs": [
    {
     "data": {
      "text/html": [
       "<div>\n",
       "<style scoped>\n",
       "    .dataframe tbody tr th:only-of-type {\n",
       "        vertical-align: middle;\n",
       "    }\n",
       "\n",
       "    .dataframe tbody tr th {\n",
       "        vertical-align: top;\n",
       "    }\n",
       "\n",
       "    .dataframe thead th {\n",
       "        text-align: right;\n",
       "    }\n",
       "</style>\n",
       "<table border=\"1\" class=\"dataframe\">\n",
       "  <thead>\n",
       "    <tr style=\"text-align: right;\">\n",
       "      <th></th>\n",
       "      <th>age_group</th>\n",
       "      <th>pool_size</th>\n",
       "      <th>Overall_amount</th>\n",
       "      <th>Success_amount</th>\n",
       "      <th>SMS_success_amount</th>\n",
       "      <th>Email_success_amount</th>\n",
       "    </tr>\n",
       "  </thead>\n",
       "  <tbody>\n",
       "    <tr>\n",
       "      <th>0</th>\n",
       "      <td>18-30</td>\n",
       "      <td>300000</td>\n",
       "      <td>20438.105661</td>\n",
       "      <td>21459.760274</td>\n",
       "      <td>10941.780822</td>\n",
       "      <td>10517.979452</td>\n",
       "    </tr>\n",
       "    <tr>\n",
       "      <th>1</th>\n",
       "      <td>31-45</td>\n",
       "      <td>350000</td>\n",
       "      <td>24577.149150</td>\n",
       "      <td>26250.000000</td>\n",
       "      <td>4751.712329</td>\n",
       "      <td>21498.287671</td>\n",
       "    </tr>\n",
       "    <tr>\n",
       "      <th>2</th>\n",
       "      <td>46-60</td>\n",
       "      <td>500000</td>\n",
       "      <td>10166.098883</td>\n",
       "      <td>12059.075342</td>\n",
       "      <td>7628.424658</td>\n",
       "      <td>4430.650685</td>\n",
       "    </tr>\n",
       "    <tr>\n",
       "      <th>3</th>\n",
       "      <td>60+</td>\n",
       "      <td>200000</td>\n",
       "      <td>4818.646307</td>\n",
       "      <td>231.164384</td>\n",
       "      <td>154.109589</td>\n",
       "      <td>77.054795</td>\n",
       "    </tr>\n",
       "  </tbody>\n",
       "</table>\n",
       "</div>"
      ],
      "text/plain": [
       "  age_group pool_size  Overall_amount  Success_amount  SMS_success_amount  \\\n",
       "0     18-30    300000    20438.105661    21459.760274        10941.780822   \n",
       "1     31-45    350000    24577.149150    26250.000000         4751.712329   \n",
       "2     46-60    500000    10166.098883    12059.075342         7628.424658   \n",
       "3       60+    200000     4818.646307      231.164384          154.109589   \n",
       "\n",
       "   Email_success_amount  \n",
       "0          10517.979452  \n",
       "1          21498.287671  \n",
       "2           4430.650685  \n",
       "3             77.054795  "
      ]
     },
     "execution_count": 142,
     "metadata": {},
     "output_type": "execute_result"
    }
   ],
   "source": [
    "newdata"
   ]
  },
  {
   "cell_type": "code",
   "execution_count": 180,
   "id": "51201f93",
   "metadata": {
    "scrolled": false
   },
   "outputs": [
    {
     "name": "stdout",
     "output_type": "stream",
     "text": [
      "----------------------------------------------------------------\n",
      "\n",
      "\n",
      "First we have analysed the  previous data that how much we have spent on capaigns(sms/email)\n",
      "\n",
      "Our first step would be that we will count the campaigns for each group that we have ran till yet\n",
      "\n",
      "Total count campaigns: 300000\n",
      "\n",
      "Seperately :\n",
      "Total SMS campaigns : 163511\n",
      "Total Email campaigns : 136489\n",
      "\n",
      "Age Group wise campaign counts :\n",
      "18-30 :102107, 31-45 :122900, 46-60 :50893, 60+ :24100\n",
      "\n",
      "Now we will find out the amount spent on campagins\n",
      "\n",
      "Total amount we have been spent on above campaigns :\n",
      "Total amount spent :18412.225\n",
      "\n",
      "Total amount we have spent on SMS :8175.55\n",
      "Total amount we have spent on Email :10236.675\n",
      "\n",
      "Total amount spent SMS and Email for each age group :\n",
      "For SMS to 18-30 :2772.3500000000004\n",
      "For Email to 18-30 :3499.5\n",
      "For SMS to 31-45 :3351.0\n",
      "For Email to 31-45 :4191.0\n",
      "For SMS to 46-60 :1394.6000000000001\n",
      "For Email to 46-60 :1725.075\n",
      "For SMS to 60+ :657.6\n",
      "For Email to 60+ :821.1\n",
      "\n",
      "Now we will see that in what percentage we have spent the total amount(18412.225) on different age groups\n",
      "18-30 :34.06350943462836%, 31-45 :40.961915249243376%, 46-60 :16.943498137786175%, 60+ :8.031077178342109%\n",
      "\n",
      "NOTE : Above we have done the analysis on the data with out considering the last steps that whether users had purchased item using that campaign or not\n",
      "\n",
      "Now we will consider the last steps if user has purchased using that camapign then we will count the successful campaigns:\n",
      "\n",
      "Total successful campaigns count : 1862\n",
      "\n",
      "Total successful SMS campaign count : 914\n",
      "Total successful Email campaign count : 948\n",
      "\n",
      "For successful SMS to 18-30 :426\n",
      "For successful Email to 18-30 :273\n",
      "For successful SMS to 31-45 :185\n",
      "For successful Email to 31-45 :558\n",
      "For successful SMS to 46-60 :297\n",
      "For successful Email to 46-60 :115\n",
      "For successful SMS to 60+ :6\n",
      "For successful Email to 60+ :2\n",
      "\n",
      "Total amount spent on Successful campaigns : 116.8\n",
      "\n",
      "What percentage of amount that we have spent on Successful campaigns seperately age group and campaign wise :\n",
      "For successful SMS to 18-30 : 18.236301369863014%\n",
      "For successful Email to 18-30 : 17.529965753424655%\n",
      "For successful SMS to 31-45 : 7.919520547945205%\n",
      "For successful Email to 31-45 : 35.830479452054796%\n",
      "For successful SMS to 46-60 : 12.714041095890414%\n",
      "For successful Email to 46-60 : 7.384417808219178%\n",
      "For successful SMS to 60+ : 0.2568493150684932%\n",
      "For successful Email to 60+ : 0.12842465753424656%\n",
      "\n",
      "\n",
      "Now we have some allocated amount that we have to spent on the campaigns for next quarter : 60000\n",
      "\n",
      "Now using the percentage of amount that we have calculated for successful campaigns we will distribute the allocated amount among the differebt age groups campaign wise\n",
      "\n",
      "So finally our distribution would be like this : \n",
      "  age_group pool_size  Overall_amount  Success_amount  SMS_success_amount  \\\n",
      "0     18-30    300000    20438.105661    21459.760274        10941.780822   \n",
      "1     31-45    350000    24577.149150    26250.000000         4751.712329   \n",
      "2     46-60    500000    10166.098883    12059.075342         7628.424658   \n",
      "3       60+    200000     4818.646307      231.164384          154.109589   \n",
      "\n",
      "   Email_success_amount  \n",
      "0          10517.979452  \n",
      "1          21498.287671  \n",
      "2           4430.650685  \n",
      "3             77.054795  \n",
      "\n",
      "Overall amount : The amount is calculated with out considering finalsteps for each age group\n",
      "Success amount : The amount is calculated with consideration of finalsteps for each age group\n",
      "SMS_success_amount : The amount is calculated for SMS with consideration of finalsteps for each age group\n",
      "Email_success_amount : The amount is calculated for Email with consideration of finalsteps for each age group\n"
     ]
    }
   ],
   "source": [
    "print('----------------------------------------------------------------')\n",
    "print('\\n')\n",
    "print('First we have analysed the  previous data that how much we have spent on capaigns(sms/email)')\n",
    "print('\\nOur first step would be that we will count the campaigns for each group that we have ran till yet')\n",
    "print('\\nTotal count campaigns: {}'.format(total))\n",
    "print('\\nSeperately :')\n",
    "print('Total SMS campaigns : {}'.format(total_sms))\n",
    "print('Total Email campaigns : {}'.format(total_email))\n",
    "print('\\nAge Group wise campaign counts :')\n",
    "print('18-30 :{}, 31-45 :{}, 46-60 :{}, 60+ :{}'.format(count_18_30,count_31_45,count_46_60,count_61_))\n",
    "\n",
    "print('\\nNow we will find out the amount spent on campagins')\n",
    "print('\\nTotal amount we have been spent on above campaigns :')\n",
    "print('Total amount spent :{}'.format(total_campaign_amount))\n",
    "\n",
    "print('\\nTotal amount we have spent on SMS :{}'.format(total_amount_for_sms))\n",
    "print('Total amount we have spent on Email :{}'.format(total_amount_for_email))\n",
    "\n",
    "print('\\nTotal amount spent SMS and Email for each age group :')\n",
    "print('For SMS to 18-30 :{}'.format(amount_on_sms_18_30_count))\n",
    "print('For Email to 18-30 :{}'.format(amount_on_email_18_30_count))\n",
    "print('For SMS to 31-45 :{}'.format(amount_on_sms_31_45_count))\n",
    "print('For Email to 31-45 :{}'.format(amount_on_email_31_45_count))\n",
    "print('For SMS to 46-60 :{}'.format(amount_on_sms_46_60_count))\n",
    "print('For Email to 46-60 :{}'.format(amount_on_email_46_60_count))\n",
    "print('For SMS to 60+ :{}'.format(amount_on_sms_61_count))\n",
    "print('For Email to 60+ :{}'.format(amount_on_email_61_count))\n",
    "\n",
    "print('\\nNow we will see that in what percentage we have spent the total amount({}) on different age groups'.format(total_campaign_amount))\n",
    "print('18-30 :{}%, 31-45 :{}%, 46-60 :{}%, 60+ :{}%'.format(percentage_on_18_30*100,percentage_on_31_45*100,percentage_on_46_60*100,percentage_on_61_*100))\n",
    "\n",
    "print('\\nNOTE : Above we have done the analysis on the data with out considering the last steps that whether users had purchased item using that campaign or not')\n",
    "\n",
    "print('\\nNow we will consider the last steps if user has purchased using that camapign then we will count the successful campaigns:')\n",
    "\n",
    "print('\\nTotal successful campaigns count : {}'.format(success_count))\n",
    "print('\\nTotal successful SMS campaign count : {}'.format(successful_sms_18_30_count+successful_sms_31_45_count+successful_sms_46_60_count+successful_sms_61_count))\n",
    "print('Total successful Email campaign count : {}'.format(successful_email_18_30_count+successful_email_31_45_count+successful_email_46_60_count+successful_email_61_count))\n",
    "\n",
    "print('\\nFor successful SMS to 18-30 :{}'.format(successful_sms_18_30_count))\n",
    "print('For successful Email to 18-30 :{}'.format(successful_email_18_30_count))\n",
    "print('For successful SMS to 31-45 :{}'.format(successful_sms_31_45_count))\n",
    "print('For successful Email to 31-45 :{}'.format(successful_email_31_45_count))\n",
    "print('For successful SMS to 46-60 :{}'.format(successful_sms_46_60_count))\n",
    "print('For successful Email to 46-60 :{}'.format(successful_email_46_60_count))\n",
    "print('For successful SMS to 60+ :{}'.format(successful_sms_61_count))\n",
    "print('For successful Email to 60+ :{}'.format(successful_email_61_count))\n",
    "\n",
    "print('\\nTotal amount spent on Successful campaigns : {}'.format(t_a_f_s_c))\n",
    "\n",
    "print('\\nWhat percentage of amount that we have spent on Successful campaigns seperately age group and campaign wise :')\n",
    "print('For successful SMS to 18-30 : {}%'.format(p_amount_on_success_sms_18_30_count * 100))\n",
    "print('For successful Email to 18-30 : {}%'.format(p_amount_on_success_email_18_30_count * 100))\n",
    "print('For successful SMS to 31-45 : {}%'.format(p_amount_on_success_sms_31_45_count * 100))\n",
    "print('For successful Email to 31-45 : {}%'.format(p_amount_on_success_email_31_45_count * 100))\n",
    "print('For successful SMS to 46-60 : {}%'.format(p_amount_on_success_sms_46_60_count * 100))\n",
    "print('For successful Email to 46-60 : {}%'.format(p_amount_on_success_email_46_60_count * 100))\n",
    "print('For successful SMS to 60+ : {}%'.format(p_amount_on_success_sms_61_count * 100))\n",
    "print('For successful Email to 60+ : {}%'.format(p_amount_on_success_email_61_count * 100))\n",
    "\n",
    "print('\\n\\nNow we have some allocated amount that we have to spent on the campaigns for next quarter : {}'.format(allocated_fund))\n",
    "print('\\nNow using the percentage of amount that we have calculated for successful campaigns we will distribute the allocated amount among the differebt age groups campaign wise')\n",
    "\n",
    "print('\\nSo finally our distribution would be like this : ')\n",
    "print(newdata.head())\n",
    "\n",
    "print('\\nOverall amount : The amount is calculated with out considering finalsteps for each age group')\n",
    "print('Success amount : The amount is calculated with consideration of finalsteps for each age group')\n",
    "print('SMS_success_amount : The amount is calculated for SMS with consideration of finalsteps for each age group')\n",
    "print('Email_success_amount : The amount is calculated for Email with consideration of finalsteps for each age group')"
   ]
  },
  {
   "cell_type": "code",
   "execution_count": null,
   "id": "5b443b11",
   "metadata": {},
   "outputs": [],
   "source": []
  },
  {
   "cell_type": "code",
   "execution_count": null,
   "id": "97074e52",
   "metadata": {},
   "outputs": [],
   "source": []
  },
  {
   "cell_type": "code",
   "execution_count": null,
   "id": "a800c9c3",
   "metadata": {},
   "outputs": [],
   "source": []
  },
  {
   "cell_type": "code",
   "execution_count": null,
   "id": "de3d0a09",
   "metadata": {},
   "outputs": [],
   "source": []
  },
  {
   "cell_type": "code",
   "execution_count": null,
   "id": "a529d67d",
   "metadata": {},
   "outputs": [],
   "source": []
  },
  {
   "cell_type": "code",
   "execution_count": null,
   "id": "26f8efd5",
   "metadata": {},
   "outputs": [],
   "source": []
  },
  {
   "cell_type": "code",
   "execution_count": null,
   "id": "d6637873",
   "metadata": {},
   "outputs": [],
   "source": []
  },
  {
   "cell_type": "code",
   "execution_count": null,
   "id": "97b516e8",
   "metadata": {},
   "outputs": [],
   "source": []
  },
  {
   "cell_type": "code",
   "execution_count": null,
   "id": "32b6ff8f",
   "metadata": {},
   "outputs": [],
   "source": []
  },
  {
   "cell_type": "code",
   "execution_count": null,
   "id": "8dfc0730",
   "metadata": {},
   "outputs": [],
   "source": []
  },
  {
   "cell_type": "code",
   "execution_count": null,
   "id": "6d59e695",
   "metadata": {},
   "outputs": [],
   "source": []
  },
  {
   "cell_type": "code",
   "execution_count": null,
   "id": "16cc44da",
   "metadata": {},
   "outputs": [],
   "source": []
  },
  {
   "cell_type": "code",
   "execution_count": null,
   "id": "f28a1d90",
   "metadata": {},
   "outputs": [],
   "source": []
  }
 ],
 "metadata": {
  "kernelspec": {
   "display_name": "Python 3",
   "language": "python",
   "name": "python3"
  },
  "language_info": {
   "codemirror_mode": {
    "name": "ipython",
    "version": 3
   },
   "file_extension": ".py",
   "mimetype": "text/x-python",
   "name": "python",
   "nbconvert_exporter": "python",
   "pygments_lexer": "ipython3",
   "version": "3.9.5"
  }
 },
 "nbformat": 4,
 "nbformat_minor": 5
}
